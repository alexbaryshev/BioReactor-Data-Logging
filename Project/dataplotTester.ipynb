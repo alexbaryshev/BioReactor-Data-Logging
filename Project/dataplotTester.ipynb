{
 "cells": [
  {
   "cell_type": "code",
   "execution_count": 1,
   "metadata": {
    "collapsed": false
   },
   "outputs": [
    {
     "data": {
      "text/html": [
       "\n",
       "\n",
       "    <script type=\"text/javascript\">\n",
       "      \n",
       "      (function(global) {\n",
       "        function now() {\n",
       "          return new Date();\n",
       "        }\n",
       "      \n",
       "        if (typeof (window._bokeh_onload_callbacks) === \"undefined\") {\n",
       "          window._bokeh_onload_callbacks = [];\n",
       "        }\n",
       "      \n",
       "        function run_callbacks() {\n",
       "          window._bokeh_onload_callbacks.forEach(function(callback) { callback() });\n",
       "          delete window._bokeh_onload_callbacks\n",
       "          console.info(\"Bokeh: all callbacks have finished\");\n",
       "        }\n",
       "      \n",
       "        function load_libs(js_urls, callback) {\n",
       "          window._bokeh_onload_callbacks.push(callback);\n",
       "          if (window._bokeh_is_loading > 0) {\n",
       "            console.log(\"Bokeh: BokehJS is being loaded, scheduling callback at\", now());\n",
       "            return null;\n",
       "          }\n",
       "          if (js_urls == null || js_urls.length === 0) {\n",
       "            run_callbacks();\n",
       "            return null;\n",
       "          }\n",
       "          console.log(\"Bokeh: BokehJS not loaded, scheduling load and callback at\", now());\n",
       "          window._bokeh_is_loading = js_urls.length;\n",
       "          for (var i = 0; i < js_urls.length; i++) {\n",
       "            var url = js_urls[i];\n",
       "            var s = document.createElement('script');\n",
       "            s.src = url;\n",
       "            s.async = false;\n",
       "            s.onreadystatechange = s.onload = function() {\n",
       "              window._bokeh_is_loading--;\n",
       "              if (window._bokeh_is_loading === 0) {\n",
       "                console.log(\"Bokeh: all BokehJS libraries loaded\");\n",
       "                run_callbacks()\n",
       "              }\n",
       "            };\n",
       "            s.onerror = function() {\n",
       "              console.warn(\"failed to load library \" + url);\n",
       "            };\n",
       "            console.log(\"Bokeh: injecting script tag for BokehJS library: \", url);\n",
       "            document.getElementsByTagName(\"head\")[0].appendChild(s);\n",
       "          }\n",
       "        };var js_urls = ['https://cdn.pydata.org/bokeh/release/bokeh-0.11.0.min.js', 'https://cdn.pydata.org/bokeh/release/bokeh-widgets-0.11.0.min.js', 'https://cdn.pydata.org/bokeh/release/bokeh-compiler-0.11.0.min.js'];\n",
       "      \n",
       "        var inline_js = [\n",
       "          function(Bokeh) {\n",
       "            Bokeh.set_log_level(\"info\");\n",
       "          },\n",
       "          function(Bokeh) {\n",
       "            console.log(\"Bokeh: injecting CSS: https://cdn.pydata.org/bokeh/release/bokeh-0.11.0.min.css\");\n",
       "            Bokeh.embed.inject_css(\"https://cdn.pydata.org/bokeh/release/bokeh-0.11.0.min.css\");\n",
       "            console.log(\"Bokeh: injecting CSS: https://cdn.pydata.org/bokeh/release/bokeh-widgets-0.11.0.min.css\");\n",
       "            Bokeh.embed.inject_css(\"https://cdn.pydata.org/bokeh/release/bokeh-widgets-0.11.0.min.css\");\n",
       "          }\n",
       "        ];\n",
       "      \n",
       "        function run_inline_js() {\n",
       "          for (var i = 0; i < inline_js.length; i++) {\n",
       "            inline_js[i](window.Bokeh);\n",
       "          }\n",
       "        }\n",
       "      \n",
       "        if (window._bokeh_is_loading === 0) {\n",
       "          console.log(\"Bokeh: BokehJS loaded, going straight to plotting\");\n",
       "          run_inline_js();\n",
       "        } else {\n",
       "          load_libs(js_urls, function() {\n",
       "            console.log(\"Bokeh: BokehJS plotting callback run at\", now());\n",
       "            run_inline_js();\n",
       "          });\n",
       "        }\n",
       "      }(this));\n",
       "    </script>\n",
       "    <div>\n",
       "        <a href=\"http://bokeh.pydata.org\" target=\"_blank\" class=\"bk-logo bk-logo-small bk-logo-notebook\"></a>\n",
       "        <span>BokehJS successfully loaded.</span>\n",
       "    </div>"
      ]
     },
     "metadata": {},
     "output_type": "display_data"
    },
    {
     "data": {
      "text/html": [
       "\n",
       "\n",
       "    <div class=\"plotdiv\" id=\"44565795-9201-468c-9c09-2b88e8ff1797\"></div>\n",
       "<script type=\"text/javascript\">\n",
       "  \n",
       "  (function(global) {\n",
       "    function now() {\n",
       "      return new Date();\n",
       "    }\n",
       "  \n",
       "    if (typeof (window._bokeh_onload_callbacks) === \"undefined\") {\n",
       "      window._bokeh_onload_callbacks = [];\n",
       "    }\n",
       "  \n",
       "    function run_callbacks() {\n",
       "      window._bokeh_onload_callbacks.forEach(function(callback) { callback() });\n",
       "      delete window._bokeh_onload_callbacks\n",
       "      console.info(\"Bokeh: all callbacks have finished\");\n",
       "    }\n",
       "  \n",
       "    function load_libs(js_urls, callback) {\n",
       "      window._bokeh_onload_callbacks.push(callback);\n",
       "      if (window._bokeh_is_loading > 0) {\n",
       "        console.log(\"Bokeh: BokehJS is being loaded, scheduling callback at\", now());\n",
       "        return null;\n",
       "      }\n",
       "      if (js_urls == null || js_urls.length === 0) {\n",
       "        run_callbacks();\n",
       "        return null;\n",
       "      }\n",
       "      console.log(\"Bokeh: BokehJS not loaded, scheduling load and callback at\", now());\n",
       "      window._bokeh_is_loading = js_urls.length;\n",
       "      for (var i = 0; i < js_urls.length; i++) {\n",
       "        var url = js_urls[i];\n",
       "        var s = document.createElement('script');\n",
       "        s.src = url;\n",
       "        s.async = false;\n",
       "        s.onreadystatechange = s.onload = function() {\n",
       "          window._bokeh_is_loading--;\n",
       "          if (window._bokeh_is_loading === 0) {\n",
       "            console.log(\"Bokeh: all BokehJS libraries loaded\");\n",
       "            run_callbacks()\n",
       "          }\n",
       "        };\n",
       "        s.onerror = function() {\n",
       "          console.warn(\"failed to load library \" + url);\n",
       "        };\n",
       "        console.log(\"Bokeh: injecting script tag for BokehJS library: \", url);\n",
       "        document.getElementsByTagName(\"head\")[0].appendChild(s);\n",
       "      }\n",
       "    };var element = document.getElementById(\"44565795-9201-468c-9c09-2b88e8ff1797\");\n",
       "    if (element == null) {\n",
       "      console.log(\"Bokeh: ERROR: autoload.js configured with elementid '44565795-9201-468c-9c09-2b88e8ff1797' but no matching script tag was found. \")\n",
       "      return false;\n",
       "    }var js_urls = [];\n",
       "  \n",
       "    var inline_js = [\n",
       "      function(Bokeh) {\n",
       "        Bokeh.$(function() {\n",
       "            var docs_json = {\"20cd9c2e-9861-4eea-bfa7-2e457cb1a681\": {\"version\": \"0.11.0\", \"roots\": {\"root_ids\": [\"f2d4c891-d142-4373-ab5c-ab30da27b29f\", \"32d9e21a-42c6-45cd-b776-2f396e670dcf\"], \"references\": [{\"attributes\": {\"plot\": {\"subtype\": \"Chart\", \"type\": \"Plot\", \"id\": \"f2d4c891-d142-4373-ab5c-ab30da27b29f\"}, \"ticker\": {\"type\": \"BasicTicker\", \"id\": \"902c7e7e-27c1-4ec2-a86a-5884f9cafdf9\"}, \"dimension\": 1}, \"type\": \"Grid\", \"id\": \"65c19f2a-e780-42f6-ad35-001706b23041\"}, {\"attributes\": {}, \"type\": \"YearsTicker\", \"id\": \"42d945e3-7106-46ec-9ff1-edaaf6c27193\"}, {\"attributes\": {\"days\": [1, 8, 15, 22]}, \"type\": \"DaysTicker\", \"id\": \"450d7ffe-e744-48e6-853f-ef3823a3840d\"}, {\"attributes\": {}, \"type\": \"BasicTickFormatter\", \"id\": \"618908ad-b90f-43e7-8fb7-cf8d431a3964\"}, {\"attributes\": {\"months\": [0, 6]}, \"type\": \"MonthsTicker\", \"id\": \"1dae4814-0dd7-4900-96f1-684e18d786f6\"}, {\"attributes\": {\"callback\": null, \"column_names\": [\"x_values\", \"y_values\"], \"data\": {\"series\": [\"DO\", \"DO\", \"DO\", \"DO\", \"DO\", \"DO\", \"DO\", \"DO\", \"DO\", \"DO\", \"DO\", \"DO\", \"DO\", \"DO\", \"DO\", \"DO\", \"DO\", \"DO\", \"DO\", \"DO\", \"DO\", \"DO\", \"DO\", \"DO\", \"DO\", \"DO\", \"DO\", \"DO\", \"DO\", \"DO\", \"DO\", \"DO\", \"DO\", \"DO\", \"DO\", \"DO\", \"DO\", \"DO\", \"DO\", \"DO\", \"DO\", \"DO\", \"DO\"], \"chart_index\": [{\"series\": \"DO\"}, {\"series\": \"DO\"}, {\"series\": \"DO\"}, {\"series\": \"DO\"}, {\"series\": \"DO\"}, {\"series\": \"DO\"}, {\"series\": \"DO\"}, {\"series\": \"DO\"}, {\"series\": \"DO\"}, {\"series\": \"DO\"}, {\"series\": \"DO\"}, {\"series\": \"DO\"}, {\"series\": \"DO\"}, {\"series\": \"DO\"}, {\"series\": \"DO\"}, {\"series\": \"DO\"}, {\"series\": \"DO\"}, {\"series\": \"DO\"}, {\"series\": \"DO\"}, {\"series\": \"DO\"}, {\"series\": \"DO\"}, {\"series\": \"DO\"}, {\"series\": \"DO\"}, {\"series\": \"DO\"}, {\"series\": \"DO\"}, {\"series\": \"DO\"}, {\"series\": \"DO\"}, {\"series\": \"DO\"}, {\"series\": \"DO\"}, {\"series\": \"DO\"}, {\"series\": \"DO\"}, {\"series\": \"DO\"}, {\"series\": \"DO\"}, {\"series\": \"DO\"}, {\"series\": \"DO\"}, {\"series\": \"DO\"}, {\"series\": \"DO\"}, {\"series\": \"DO\"}, {\"series\": \"DO\"}, {\"series\": \"DO\"}, {\"series\": \"DO\"}, {\"series\": \"DO\"}, {\"series\": \"DO\"}], \"y_values\": [-0.10065043900000001, -0.041641712000000004, 0.059711242000000005, 0.039085506, 0.057197907, 0.07787828, 0.047690945, 0.063057801, 0.084935651, 0.107355325, 0.10766825, 0.09044495400000001, 0.108717065, 0.093176839, 0.10604402, 0.096813662, 0.092284959, 0.082795674, 0.075728718, 0.07502346, 0.085898316, 0.088184939, 0.09127045800000001, 0.08412746800000001, 0.079654006, 0.087565967, 0.095954256, 0.088317986, 0.09635618900000001, 0.09243923, 0.089515231, 0.096250211, 0.08961297, 0.09529806800000001, 0.092696808, 0.09711530800000001, 0.09123867699999999, 0.097145262, 0.10226561199999999, 0.097561516, 0.095825436, 0.098699151, 0.098484956], \"x_values\": [0, 1, 2, 3, 4, 5, 6, 7, 8, 9, 10, 11, 12, 13, 14, 15, 16, 17, 18, 19, 20, 21, 22, 23, 24, 25, 26, 27, 28, 29, 30, 31, 32, 33, 34, 35, 36, 37, 38, 39, 40, 41, 42]}}, \"type\": \"ColumnDataSource\", \"id\": \"18655c67-6cb2-492e-9378-9a9d1f672b15\"}, {\"attributes\": {\"plot\": {\"subtype\": \"Chart\", \"type\": \"Plot\", \"id\": \"f2d4c891-d142-4373-ab5c-ab30da27b29f\"}}, \"type\": \"ResetTool\", \"id\": \"dde7b327-a8e9-4968-ba9a-66e97146bf99\"}, {\"attributes\": {\"plot\": {\"subtype\": \"Chart\", \"type\": \"Plot\", \"id\": \"f2d4c891-d142-4373-ab5c-ab30da27b29f\"}, \"axis_label\": \"DO\", \"formatter\": {\"type\": \"BasicTickFormatter\", \"id\": \"618908ad-b90f-43e7-8fb7-cf8d431a3964\"}, \"ticker\": {\"type\": \"BasicTicker\", \"id\": \"902c7e7e-27c1-4ec2-a86a-5884f9cafdf9\"}}, \"type\": \"LinearAxis\", \"id\": \"3317589a-cc0c-49ea-9b37-8aa7c7ebc23e\"}, {\"attributes\": {}, \"type\": \"DatetimeTicker\", \"id\": \"96a1b746-7d77-44a3-8754-a2443d9f7411\"}, {\"attributes\": {\"months\": [0, 4, 8]}, \"type\": \"MonthsTicker\", \"id\": \"5839c956-47ca-40ef-b959-457bbe059c76\"}, {\"attributes\": {\"plot\": {\"subtype\": \"Chart\", \"type\": \"Plot\", \"id\": \"f2d4c891-d142-4373-ab5c-ab30da27b29f\"}, \"axis_label\": \"Date\", \"formatter\": {\"type\": \"DatetimeTickFormatter\", \"id\": \"45820074-04c1-42d7-805b-7dcc8d32e1bc\"}, \"ticker\": {\"type\": \"DatetimeTicker\", \"id\": \"96a1b746-7d77-44a3-8754-a2443d9f7411\"}}, \"type\": \"DatetimeAxis\", \"id\": \"955611d1-5621-4284-9330-3a98e06ba4eb\"}, {\"attributes\": {\"plot\": {\"subtype\": \"Chart\", \"type\": \"Plot\", \"id\": \"f2d4c891-d142-4373-ab5c-ab30da27b29f\"}}, \"type\": \"HelpTool\", \"id\": \"625b2b9d-e450-4fe3-a58f-79a292ea8a89\"}, {\"attributes\": {}, \"type\": \"BasicTicker\", \"id\": \"902c7e7e-27c1-4ec2-a86a-5884f9cafdf9\"}, {\"attributes\": {\"callback\": null, \"end\": 0.1296538154, \"start\": -0.12158718940000002}, \"type\": \"Range1d\", \"id\": \"84c7752e-859d-4d65-af04-63d1f49c003e\"}, {\"attributes\": {}, \"type\": \"DatetimeTickFormatter\", \"id\": \"45820074-04c1-42d7-805b-7dcc8d32e1bc\"}, {\"attributes\": {}, \"type\": \"ToolEvents\", \"id\": \"2cbc234f-6b7c-4b15-a94e-70329ddec98d\"}, {\"attributes\": {\"children\": [{\"type\": \"CheckboxButtonGroup\", \"id\": \"f5d00eb2-2144-4088-8bd3-d6846a5d0cdd\"}, {\"subtype\": \"Chart\", \"type\": \"Plot\", \"id\": \"f2d4c891-d142-4373-ab5c-ab30da27b29f\"}]}, \"type\": \"VBoxForm\", \"id\": \"32d9e21a-42c6-45cd-b776-2f396e670dcf\"}, {\"attributes\": {\"x_range\": {\"type\": \"Range1d\", \"id\": \"f7a283e9-9933-4d6d-a2fe-0f7232fea55e\"}, \"y_mapper_type\": \"auto\", \"title_text_font_size\": {\"value\": \"14pt\"}, \"yscale\": \"auto\", \"y_range\": {\"type\": \"Range1d\", \"id\": \"84c7752e-859d-4d65-af04-63d1f49c003e\"}, \"x_mapper_type\": \"auto\", \"renderers\": [{\"type\": \"BoxAnnotation\", \"id\": \"b0738cf4-031a-4613-bde3-98cbc540235d\"}, {\"type\": \"GlyphRenderer\", \"id\": \"8281d43f-e5b2-4797-8bb6-5b0b9066e977\"}, {\"type\": \"Legend\", \"id\": \"3f5345fa-45d4-484a-be55-a397a727359e\"}, {\"type\": \"DatetimeAxis\", \"id\": \"955611d1-5621-4284-9330-3a98e06ba4eb\"}, {\"type\": \"LinearAxis\", \"id\": \"3317589a-cc0c-49ea-9b37-8aa7c7ebc23e\"}, {\"type\": \"Grid\", \"id\": \"94603bee-da4e-46e0-aa07-e9e423c94b05\"}, {\"type\": \"Grid\", \"id\": \"65c19f2a-e780-42f6-ad35-001706b23041\"}], \"below\": [{\"type\": \"DatetimeAxis\", \"id\": \"955611d1-5621-4284-9330-3a98e06ba4eb\"}], \"tool_events\": {\"type\": \"ToolEvents\", \"id\": \"2cbc234f-6b7c-4b15-a94e-70329ddec98d\"}, \"xscale\": \"auto\", \"tools\": [{\"type\": \"PanTool\", \"id\": \"83cc802f-5dc9-4a47-b511-d53e4c4a9a90\"}, {\"type\": \"WheelZoomTool\", \"id\": \"bed83501-a7ca-41a5-b7d2-5689121955d1\"}, {\"type\": \"BoxZoomTool\", \"id\": \"7c9bc806-1eef-437e-bc71-35127866013e\"}, {\"type\": \"PreviewSaveTool\", \"id\": \"6b118832-38cf-4a41-806d-7b87c70f17e3\"}, {\"type\": \"ResizeTool\", \"id\": \"ff276356-122f-4b14-934a-9635f2cf0bcc\"}, {\"type\": \"ResetTool\", \"id\": \"dde7b327-a8e9-4968-ba9a-66e97146bf99\"}, {\"type\": \"HelpTool\", \"id\": \"625b2b9d-e450-4fe3-a58f-79a292ea8a89\"}], \"legend\": \"top_left\", \"left\": [{\"type\": \"LinearAxis\", \"id\": \"3317589a-cc0c-49ea-9b37-8aa7c7ebc23e\"}]}, \"type\": \"Plot\", \"id\": \"f2d4c891-d142-4373-ab5c-ab30da27b29f\", \"subtype\": \"Chart\"}, {\"attributes\": {\"min_interval\": 3600000.0, \"mantissas\": [1, 2, 4, 6, 8, 12], \"base\": 24, \"max_interval\": 43200000.0, \"num_minor_ticks\": 0}, \"type\": \"AdaptiveTicker\", \"id\": \"8c2a2f86-f96e-4ae7-935c-31955ad9d2be\"}, {\"attributes\": {\"months\": [0, 2, 4, 6, 8, 10]}, \"type\": \"MonthsTicker\", \"id\": \"6121386e-c375-4c5d-a50b-95bc20930fbe\"}, {\"attributes\": {\"plot\": {\"subtype\": \"Chart\", \"type\": \"Plot\", \"id\": \"f2d4c891-d142-4373-ab5c-ab30da27b29f\"}}, \"type\": \"ResizeTool\", \"id\": \"ff276356-122f-4b14-934a-9635f2cf0bcc\"}, {\"attributes\": {\"plot\": {\"subtype\": \"Chart\", \"type\": \"Plot\", \"id\": \"f2d4c891-d142-4373-ab5c-ab30da27b29f\"}, \"overlay\": {\"type\": \"BoxAnnotation\", \"id\": \"b0738cf4-031a-4613-bde3-98cbc540235d\"}}, \"type\": \"BoxZoomTool\", \"id\": \"7c9bc806-1eef-437e-bc71-35127866013e\"}, {\"attributes\": {\"max_interval\": 500.0, \"num_minor_ticks\": 0}, \"type\": \"AdaptiveTicker\", \"id\": \"3ae16659-bee9-4cb9-8dba-d92739c1af5e\"}, {\"attributes\": {\"active\": [0, 1], \"labels\": [\"DO\", \"NH4\", \"pH\"]}, \"type\": \"CheckboxButtonGroup\", \"id\": \"f5d00eb2-2144-4088-8bd3-d6846a5d0cdd\"}, {\"attributes\": {\"months\": [0, 1, 2, 3, 4, 5, 6, 7, 8, 9, 10, 11]}, \"type\": \"MonthsTicker\", \"id\": \"e149135d-dc7d-4e70-a021-25ffad682207\"}, {\"attributes\": {\"days\": [1, 2, 3, 4, 5, 6, 7, 8, 9, 10, 11, 12, 13, 14, 15, 16, 17, 18, 19, 20, 21, 22, 23, 24, 25, 26, 27, 28, 29, 30, 31]}, \"type\": \"DaysTicker\", \"id\": \"bb91485e-91b8-440a-a067-b6e44531b28a\"}, {\"attributes\": {\"callback\": null, \"end\": 42}, \"type\": \"Range1d\", \"id\": \"f7a283e9-9933-4d6d-a2fe-0f7232fea55e\"}, {\"attributes\": {\"line_color\": {\"value\": \"black\"}, \"line_alpha\": {\"value\": 1.0}, \"render_mode\": \"css\", \"bottom_units\": \"screen\", \"level\": \"overlay\", \"top_units\": \"screen\", \"fill_alpha\": {\"value\": 0.5}, \"plot\": null, \"left_units\": \"screen\", \"line_dash\": [4, 4], \"line_width\": {\"value\": 2}, \"right_units\": \"screen\", \"fill_color\": {\"value\": \"lightgrey\"}}, \"type\": \"BoxAnnotation\", \"id\": \"b0738cf4-031a-4613-bde3-98cbc540235d\"}, {\"attributes\": {\"line_color\": {\"value\": \"#f22c40\"}, \"line_width\": {\"value\": 2}, \"y\": {\"field\": \"y_values\"}, \"x\": {\"field\": \"x_values\"}}, \"type\": \"Line\", \"id\": \"41a37330-c61b-4037-a235-6288f24d7e06\"}, {\"attributes\": {\"days\": [1, 15]}, \"type\": \"DaysTicker\", \"id\": \"67d62127-b0e9-44e3-957c-318e00a9e647\"}, {\"attributes\": {\"days\": [1, 4, 7, 10, 13, 16, 19, 22, 25, 28]}, \"type\": \"DaysTicker\", \"id\": \"cf2133f9-53d8-4254-9cdb-2bd286cb3947\"}, {\"attributes\": {\"plot\": {\"subtype\": \"Chart\", \"type\": \"Plot\", \"id\": \"f2d4c891-d142-4373-ab5c-ab30da27b29f\"}, \"legends\": [[\"DO\", [{\"type\": \"GlyphRenderer\", \"id\": \"8281d43f-e5b2-4797-8bb6-5b0b9066e977\"}]]], \"location\": \"top_left\"}, \"type\": \"Legend\", \"id\": \"3f5345fa-45d4-484a-be55-a397a727359e\"}, {\"attributes\": {\"min_interval\": 1000.0, \"mantissas\": [1, 2, 5, 10, 15, 20, 30], \"base\": 60, \"max_interval\": 1800000.0, \"num_minor_ticks\": 0}, \"type\": \"AdaptiveTicker\", \"id\": \"ce77514e-28c6-4d00-ab0d-9be408e3ebf5\"}, {\"attributes\": {\"nonselection_glyph\": null, \"data_source\": {\"type\": \"ColumnDataSource\", \"id\": \"18655c67-6cb2-492e-9378-9a9d1f672b15\"}, \"selection_glyph\": null, \"hover_glyph\": null, \"glyph\": {\"type\": \"Line\", \"id\": \"41a37330-c61b-4037-a235-6288f24d7e06\"}}, \"type\": \"GlyphRenderer\", \"id\": \"8281d43f-e5b2-4797-8bb6-5b0b9066e977\"}, {\"attributes\": {\"plot\": {\"subtype\": \"Chart\", \"type\": \"Plot\", \"id\": \"f2d4c891-d142-4373-ab5c-ab30da27b29f\"}}, \"type\": \"PreviewSaveTool\", \"id\": \"6b118832-38cf-4a41-806d-7b87c70f17e3\"}, {\"attributes\": {\"plot\": {\"subtype\": \"Chart\", \"type\": \"Plot\", \"id\": \"f2d4c891-d142-4373-ab5c-ab30da27b29f\"}}, \"type\": \"PanTool\", \"id\": \"83cc802f-5dc9-4a47-b511-d53e4c4a9a90\"}, {\"attributes\": {\"plot\": {\"subtype\": \"Chart\", \"type\": \"Plot\", \"id\": \"f2d4c891-d142-4373-ab5c-ab30da27b29f\"}, \"ticker\": {\"type\": \"DatetimeTicker\", \"id\": \"96a1b746-7d77-44a3-8754-a2443d9f7411\"}}, \"type\": \"Grid\", \"id\": \"94603bee-da4e-46e0-aa07-e9e423c94b05\"}, {\"attributes\": {\"plot\": {\"subtype\": \"Chart\", \"type\": \"Plot\", \"id\": \"f2d4c891-d142-4373-ab5c-ab30da27b29f\"}}, \"type\": \"WheelZoomTool\", \"id\": \"bed83501-a7ca-41a5-b7d2-5689121955d1\"}]}, \"title\": \"Bokeh Application\"}};\n",
       "            var render_items = [{\"notebook_comms_target\": \"9935bb8f-c7c7-4d32-ae80-158bf8c98f95\", \"docid\": \"20cd9c2e-9861-4eea-bfa7-2e457cb1a681\", \"elementid\": \"44565795-9201-468c-9c09-2b88e8ff1797\", \"modelid\": \"32d9e21a-42c6-45cd-b776-2f396e670dcf\"}];\n",
       "            \n",
       "            Bokeh.embed.embed_items(docs_json, render_items);\n",
       "        });\n",
       "      },\n",
       "      function(Bokeh) {\n",
       "      }\n",
       "    ];\n",
       "  \n",
       "    function run_inline_js() {\n",
       "      for (var i = 0; i < inline_js.length; i++) {\n",
       "        inline_js[i](window.Bokeh);\n",
       "      }\n",
       "    }\n",
       "  \n",
       "    if (window._bokeh_is_loading === 0) {\n",
       "      console.log(\"Bokeh: BokehJS loaded, going straight to plotting\");\n",
       "      run_inline_js();\n",
       "    } else {\n",
       "      load_libs(js_urls, function() {\n",
       "        console.log(\"Bokeh: BokehJS plotting callback run at\", now());\n",
       "        run_inline_js();\n",
       "      });\n",
       "    }\n",
       "  }(this));\n",
       "</script>"
      ]
     },
     "metadata": {},
     "output_type": "display_data"
    },
    {
     "data": {
      "text/plain": [
       "<bokeh.io._CommsHandle at 0x1119e6dd0>"
      ]
     },
     "execution_count": 1,
     "metadata": {},
     "output_type": "execute_result"
    }
   ],
   "source": [
    "import numpy as np\n",
    "from bokeh.charts import *\n",
    "from bokeh.io import output_notebook, show, output_file, vform\n",
    "from bokeh.models import ColumnDataSource, CustomJS\n",
    "import pandas as pd\n",
    "from bokeh.models.widgets import CheckboxButtonGroup, Slider\n",
    "\n",
    "# Accept/Setup Dataframe to be Plotted\n",
    "sample_data_live = 'sampledatalive.csv'\n",
    "sample = pd.read_csv(sample_data_live, parse_dates = [0])\n",
    "sampleSI = sample.set_index('Date')\n",
    "\n",
    "# Plot a Specified Column in Dataframe\n",
    "lineplot = Line(sampleSI['DO'], xlabel='Date', ylabel='DO', legend=\"top_left\")\n",
    "checkbox_button_group = CheckboxButtonGroup(labels=[\"DO\", \"NH4\", \"pH\"], active=[0, 1])\n",
    "output_notebook()\n",
    "show(vform(checkbox_button_group, lineplot))"
   ]
  },
  {
   "cell_type": "code",
   "execution_count": 20,
   "metadata": {
    "collapsed": false
   },
   "outputs": [
    {
     "data": {
      "text/plain": [
       "<bokeh.models.renderers.GlyphRenderer at 0x19c02d49320>"
      ]
     },
     "execution_count": 20,
     "metadata": {},
     "output_type": "execute_result"
    }
   ],
   "source": [
    "source=ColumnDataSource(data=sampleSI)\n",
    "plot = figure(plot_width=600, plot_height=400)\n",
    "plot.line('x', 'y', source=source, line_width=3, line_alpha=0.5)"
   ]
  },
  {
   "cell_type": "code",
   "execution_count": 26,
   "metadata": {
    "collapsed": false
   },
   "outputs": [
    {
     "ename": "AttributeError",
     "evalue": "unexpected attribute 'labels' to Slider, possible attributes are callback, disabled, end, name, orientation, start, step, tags, title or value",
     "output_type": "error",
     "traceback": [
      "\u001b[1;31m---------------------------------------------------------------------------\u001b[0m",
      "\u001b[1;31mAttributeError\u001b[0m                            Traceback (most recent call last)",
      "\u001b[1;32m<ipython-input-26-f4008e94fdd3>\u001b[0m in \u001b[0;36m<module>\u001b[1;34m()\u001b[0m\n\u001b[0;32m      6\u001b[0m     \"\"\")\n\u001b[0;32m      7\u001b[0m \u001b[1;33m\u001b[0m\u001b[0m\n\u001b[1;32m----> 8\u001b[1;33m \u001b[0mslider\u001b[0m \u001b[1;33m=\u001b[0m \u001b[0mSlider\u001b[0m\u001b[1;33m(\u001b[0m\u001b[0mlabels\u001b[0m\u001b[1;33m=\u001b[0m\u001b[1;33m[\u001b[0m\u001b[1;34m\"DO\"\u001b[0m\u001b[1;33m,\u001b[0m \u001b[1;34m\"NH4\"\u001b[0m\u001b[1;33m,\u001b[0m \u001b[1;34m\"pH\"\u001b[0m\u001b[1;33m]\u001b[0m\u001b[1;33m,\u001b[0m \u001b[0mactive\u001b[0m\u001b[1;33m=\u001b[0m\u001b[1;33m[\u001b[0m\u001b[1;36m0\u001b[0m\u001b[1;33m,\u001b[0m \u001b[1;36m1\u001b[0m\u001b[1;33m]\u001b[0m\u001b[1;33m,\u001b[0m \u001b[0mcallback\u001b[0m\u001b[1;33m=\u001b[0m\u001b[0mcallback\u001b[0m\u001b[1;33m)\u001b[0m\u001b[1;33m\u001b[0m\u001b[0m\n\u001b[0m",
      "\u001b[1;32mC:\\Users\\maest\\Miniconda3\\lib\\site-packages\\bokeh\\model.py\u001b[0m in \u001b[0;36m__init__\u001b[1;34m(self, **kwargs)\u001b[0m\n\u001b[0;32m     81\u001b[0m         \u001b[0mself\u001b[0m\u001b[1;33m.\u001b[0m\u001b[0m_id\u001b[0m \u001b[1;33m=\u001b[0m \u001b[0mkwargs\u001b[0m\u001b[1;33m.\u001b[0m\u001b[0mpop\u001b[0m\u001b[1;33m(\u001b[0m\u001b[1;34m\"id\"\u001b[0m\u001b[1;33m,\u001b[0m \u001b[0mmake_id\u001b[0m\u001b[1;33m(\u001b[0m\u001b[1;33m)\u001b[0m\u001b[1;33m)\u001b[0m\u001b[1;33m\u001b[0m\u001b[0m\n\u001b[0;32m     82\u001b[0m         \u001b[0mself\u001b[0m\u001b[1;33m.\u001b[0m\u001b[0m_document\u001b[0m \u001b[1;33m=\u001b[0m \u001b[1;32mNone\u001b[0m\u001b[1;33m\u001b[0m\u001b[0m\n\u001b[1;32m---> 83\u001b[1;33m         \u001b[0msuper\u001b[0m\u001b[1;33m(\u001b[0m\u001b[0mModel\u001b[0m\u001b[1;33m,\u001b[0m \u001b[0mself\u001b[0m\u001b[1;33m)\u001b[0m\u001b[1;33m.\u001b[0m\u001b[0m__init__\u001b[0m\u001b[1;33m(\u001b[0m\u001b[1;33m**\u001b[0m\u001b[0mkwargs\u001b[0m\u001b[1;33m)\u001b[0m\u001b[1;33m\u001b[0m\u001b[0m\n\u001b[0m\u001b[0;32m     84\u001b[0m         \u001b[0mdefault_theme\u001b[0m\u001b[1;33m.\u001b[0m\u001b[0mapply_to_model\u001b[0m\u001b[1;33m(\u001b[0m\u001b[0mself\u001b[0m\u001b[1;33m)\u001b[0m\u001b[1;33m\u001b[0m\u001b[0m\n\u001b[0;32m     85\u001b[0m \u001b[1;33m\u001b[0m\u001b[0m\n",
      "\u001b[1;32mC:\\Users\\maest\\Miniconda3\\lib\\site-packages\\bokeh\\core\\properties.py\u001b[0m in \u001b[0;36m__init__\u001b[1;34m(self, **properties)\u001b[0m\n\u001b[0;32m    699\u001b[0m \u001b[1;33m\u001b[0m\u001b[0m\n\u001b[0;32m    700\u001b[0m         \u001b[1;32mfor\u001b[0m \u001b[0mname\u001b[0m\u001b[1;33m,\u001b[0m \u001b[0mvalue\u001b[0m \u001b[1;32min\u001b[0m \u001b[0mproperties\u001b[0m\u001b[1;33m.\u001b[0m\u001b[0mitems\u001b[0m\u001b[1;33m(\u001b[0m\u001b[1;33m)\u001b[0m\u001b[1;33m:\u001b[0m\u001b[1;33m\u001b[0m\u001b[0m\n\u001b[1;32m--> 701\u001b[1;33m             \u001b[0msetattr\u001b[0m\u001b[1;33m(\u001b[0m\u001b[0mself\u001b[0m\u001b[1;33m,\u001b[0m \u001b[0mname\u001b[0m\u001b[1;33m,\u001b[0m \u001b[0mvalue\u001b[0m\u001b[1;33m)\u001b[0m\u001b[1;33m\u001b[0m\u001b[0m\n\u001b[0m\u001b[0;32m    702\u001b[0m \u001b[1;33m\u001b[0m\u001b[0m\n\u001b[0;32m    703\u001b[0m     \u001b[1;32mdef\u001b[0m \u001b[0m__setattr__\u001b[0m\u001b[1;33m(\u001b[0m\u001b[0mself\u001b[0m\u001b[1;33m,\u001b[0m \u001b[0mname\u001b[0m\u001b[1;33m,\u001b[0m \u001b[0mvalue\u001b[0m\u001b[1;33m)\u001b[0m\u001b[1;33m:\u001b[0m\u001b[1;33m\u001b[0m\u001b[0m\n",
      "\u001b[1;32mC:\\Users\\maest\\Miniconda3\\lib\\site-packages\\bokeh\\core\\properties.py\u001b[0m in \u001b[0;36m__setattr__\u001b[1;34m(self, name, value)\u001b[0m\n\u001b[0;32m    720\u001b[0m \u001b[1;33m\u001b[0m\u001b[0m\n\u001b[0;32m    721\u001b[0m             raise AttributeError(\"unexpected attribute '%s' to %s, %s attributes are %s\" %\n\u001b[1;32m--> 722\u001b[1;33m                 (name, self.__class__.__name__, text, nice_join(matches)))\n\u001b[0m\u001b[0;32m    723\u001b[0m \u001b[1;33m\u001b[0m\u001b[0m\n\u001b[0;32m    724\u001b[0m     \u001b[1;32mdef\u001b[0m \u001b[0mset_from_json\u001b[0m\u001b[1;33m(\u001b[0m\u001b[0mself\u001b[0m\u001b[1;33m,\u001b[0m \u001b[0mname\u001b[0m\u001b[1;33m,\u001b[0m \u001b[0mjson\u001b[0m\u001b[1;33m,\u001b[0m \u001b[0mmodels\u001b[0m\u001b[1;33m=\u001b[0m\u001b[1;32mNone\u001b[0m\u001b[1;33m)\u001b[0m\u001b[1;33m:\u001b[0m\u001b[1;33m\u001b[0m\u001b[0m\n",
      "\u001b[1;31mAttributeError\u001b[0m: unexpected attribute 'labels' to Slider, possible attributes are callback, disabled, end, name, orientation, start, step, tags, title or value"
     ]
    }
   ],
   "source": [
    "callback = CustomJS(args=dict(source=source), code=\"\"\"\n",
    "    var data = source.get('data');\n",
    "    var f = cb_obj.get('value')\n",
    "    x = data['Date']\n",
    "    y = data['DO']\n",
    "    \"\"\")\n",
    "\n",
    "slider = Slider(labels=[\"DO\", \"NH4\", \"pH\"], active=[0, 1], callback=callback)"
   ]
  },
  {
   "cell_type": "code",
   "execution_count": null,
   "metadata": {
    "collapsed": true
   },
   "outputs": [],
   "source": []
  }
 ],
 "metadata": {
  "kernelspec": {
   "display_name": "Python 2",
   "language": "python",
   "name": "python2"
  },
  "language_info": {
   "codemirror_mode": {
    "name": "ipython",
    "version": 2
   },
   "file_extension": ".py",
   "mimetype": "text/x-python",
   "name": "python",
   "nbconvert_exporter": "python",
   "pygments_lexer": "ipython2",
   "version": "2.7.11"
  }
 },
 "nbformat": 4,
 "nbformat_minor": 0
}
