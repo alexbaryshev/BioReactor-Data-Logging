{
 "cells": [
  {
   "cell_type": "code",
   "execution_count": 4,
   "metadata": {
    "collapsed": false
   },
   "outputs": [
    {
     "data": {
      "text/html": [
       "\n",
       "    <div class=\"bk-banner\">\n",
       "        <a href=\"http://bokeh.pydata.org\" target=\"_blank\" class=\"bk-logo bk-logo-small bk-logo-notebook\"></a>\n",
       "        <span id=\"93d405f4-64eb-428d-9489-2dd1c653cf1b\">Loading BokehJS ...</span>\n",
       "    </div>"
      ]
     },
     "metadata": {},
     "output_type": "display_data"
    },
    {
     "data": {
      "application/javascript": [
       "\n",
       "(function(global) {\n",
       "  function now() {\n",
       "    return new Date();\n",
       "  }\n",
       "\n",
       "  if (typeof (window._bokeh_onload_callbacks) === \"undefined\") {\n",
       "    window._bokeh_onload_callbacks = [];\n",
       "  }\n",
       "\n",
       "  function run_callbacks() {\n",
       "    window._bokeh_onload_callbacks.forEach(function(callback) { callback() });\n",
       "    delete window._bokeh_onload_callbacks\n",
       "    console.info(\"Bokeh: all callbacks have finished\");\n",
       "  }\n",
       "\n",
       "  function load_libs(js_urls, callback) {\n",
       "    window._bokeh_onload_callbacks.push(callback);\n",
       "    if (window._bokeh_is_loading > 0) {\n",
       "      console.log(\"Bokeh: BokehJS is being loaded, scheduling callback at\", now());\n",
       "      return null;\n",
       "    }\n",
       "    if (js_urls == null || js_urls.length === 0) {\n",
       "      run_callbacks();\n",
       "      return null;\n",
       "    }\n",
       "    console.log(\"Bokeh: BokehJS not loaded, scheduling load and callback at\", now());\n",
       "    window._bokeh_is_loading = js_urls.length;\n",
       "    for (var i = 0; i < js_urls.length; i++) {\n",
       "      var url = js_urls[i];\n",
       "      var s = document.createElement('script');\n",
       "      s.src = url;\n",
       "      s.async = false;\n",
       "      s.onreadystatechange = s.onload = function() {\n",
       "        window._bokeh_is_loading--;\n",
       "        if (window._bokeh_is_loading === 0) {\n",
       "          console.log(\"Bokeh: all BokehJS libraries loaded\");\n",
       "          run_callbacks()\n",
       "        }\n",
       "      };\n",
       "      s.onerror = function() {\n",
       "        console.warn(\"failed to load library \" + url);\n",
       "      };\n",
       "      console.log(\"Bokeh: injecting script tag for BokehJS library: \", url);\n",
       "      document.getElementsByTagName(\"head\")[0].appendChild(s);\n",
       "    }\n",
       "  };\n",
       "\n",
       "  var js_urls = ['https://cdn.pydata.org/bokeh/release/bokeh-0.11.1.min.js', 'https://cdn.pydata.org/bokeh/release/bokeh-widgets-0.11.1.min.js', 'https://cdn.pydata.org/bokeh/release/bokeh-compiler-0.11.1.min.js'];\n",
       "\n",
       "  var inline_js = [\n",
       "    function(Bokeh) {\n",
       "      Bokeh.set_log_level(\"info\");\n",
       "    },\n",
       "    \n",
       "    function(Bokeh) {\n",
       "      Bokeh.$(\"#93d405f4-64eb-428d-9489-2dd1c653cf1b\").text(\"BokehJS successfully loaded\");\n",
       "    },\n",
       "    function(Bokeh) {\n",
       "      console.log(\"Bokeh: injecting CSS: https://cdn.pydata.org/bokeh/release/bokeh-0.11.1.min.css\");\n",
       "      Bokeh.embed.inject_css(\"https://cdn.pydata.org/bokeh/release/bokeh-0.11.1.min.css\");\n",
       "      console.log(\"Bokeh: injecting CSS: https://cdn.pydata.org/bokeh/release/bokeh-widgets-0.11.1.min.css\");\n",
       "      Bokeh.embed.inject_css(\"https://cdn.pydata.org/bokeh/release/bokeh-widgets-0.11.1.min.css\");\n",
       "    }\n",
       "  ];\n",
       "\n",
       "  function run_inline_js() {\n",
       "    for (var i = 0; i < inline_js.length; i++) {\n",
       "      inline_js[i](window.Bokeh);\n",
       "    }\n",
       "  }\n",
       "\n",
       "  if (window._bokeh_is_loading === 0) {\n",
       "    console.log(\"Bokeh: BokehJS loaded, going straight to plotting\");\n",
       "    run_inline_js();\n",
       "  } else {\n",
       "    load_libs(js_urls, function() {\n",
       "      console.log(\"Bokeh: BokehJS plotting callback run at\", now());\n",
       "      run_inline_js();\n",
       "    });\n",
       "  }\n",
       "}(this));"
      ]
     },
     "metadata": {},
     "output_type": "display_data"
    },
    {
     "data": {
      "text/html": [
       "\n",
       "\n",
       "    <div class=\"plotdiv\" id=\"36705a12-63d6-4086-9343-78d79df57497\"></div>\n",
       "<script type=\"text/javascript\">\n",
       "  \n",
       "  (function(global) {\n",
       "    function now() {\n",
       "      return new Date();\n",
       "    }\n",
       "  \n",
       "    if (typeof (window._bokeh_onload_callbacks) === \"undefined\") {\n",
       "      window._bokeh_onload_callbacks = [];\n",
       "    }\n",
       "  \n",
       "    function run_callbacks() {\n",
       "      window._bokeh_onload_callbacks.forEach(function(callback) { callback() });\n",
       "      delete window._bokeh_onload_callbacks\n",
       "      console.info(\"Bokeh: all callbacks have finished\");\n",
       "    }\n",
       "  \n",
       "    function load_libs(js_urls, callback) {\n",
       "      window._bokeh_onload_callbacks.push(callback);\n",
       "      if (window._bokeh_is_loading > 0) {\n",
       "        console.log(\"Bokeh: BokehJS is being loaded, scheduling callback at\", now());\n",
       "        return null;\n",
       "      }\n",
       "      if (js_urls == null || js_urls.length === 0) {\n",
       "        run_callbacks();\n",
       "        return null;\n",
       "      }\n",
       "      console.log(\"Bokeh: BokehJS not loaded, scheduling load and callback at\", now());\n",
       "      window._bokeh_is_loading = js_urls.length;\n",
       "      for (var i = 0; i < js_urls.length; i++) {\n",
       "        var url = js_urls[i];\n",
       "        var s = document.createElement('script');\n",
       "        s.src = url;\n",
       "        s.async = false;\n",
       "        s.onreadystatechange = s.onload = function() {\n",
       "          window._bokeh_is_loading--;\n",
       "          if (window._bokeh_is_loading === 0) {\n",
       "            console.log(\"Bokeh: all BokehJS libraries loaded\");\n",
       "            run_callbacks()\n",
       "          }\n",
       "        };\n",
       "        s.onerror = function() {\n",
       "          console.warn(\"failed to load library \" + url);\n",
       "        };\n",
       "        console.log(\"Bokeh: injecting script tag for BokehJS library: \", url);\n",
       "        document.getElementsByTagName(\"head\")[0].appendChild(s);\n",
       "      }\n",
       "    };var element = document.getElementById(\"36705a12-63d6-4086-9343-78d79df57497\");\n",
       "    if (element == null) {\n",
       "      console.log(\"Bokeh: ERROR: autoload.js configured with elementid '36705a12-63d6-4086-9343-78d79df57497' but no matching script tag was found. \")\n",
       "      return false;\n",
       "    }\n",
       "  \n",
       "    var js_urls = [];\n",
       "  \n",
       "    var inline_js = [\n",
       "      function(Bokeh) {\n",
       "        Bokeh.$(function() {\n",
       "            var docs_json = {\"c8d3637d-409b-432f-aa5f-10c1c3a67eb7\":{\"roots\":{\"references\":[{\"attributes\":{},\"id\":\"a690ea57-ef02-415b-9913-7ef5d0dcd005\",\"type\":\"BasicTickFormatter\"},{\"attributes\":{\"days\":[1,15]},\"id\":\"1d0646c1-5cfa-4134-8fcf-2d5a30b2939e\",\"type\":\"DaysTicker\"},{\"attributes\":{},\"id\":\"a2d3ab39-afc5-4d86-9188-16da94a63493\",\"type\":\"DatetimeTicker\"},{\"attributes\":{\"days\":[1,4,7,10,13,16,19,22,25,28]},\"id\":\"47687bae-a099-446f-ac42-e049cabf29ba\",\"type\":\"DaysTicker\"},{\"attributes\":{\"base\":24,\"mantissas\":[1,2,4,6,8,12],\"max_interval\":43200000.0,\"min_interval\":3600000.0,\"num_minor_ticks\":0},\"id\":\"b58f5335-5a43-4b1e-890e-6c3016421b98\",\"type\":\"AdaptiveTicker\"},{\"attributes\":{},\"id\":\"98fca6e6-b2dc-4ec2-be68-5c13d2d99236\",\"type\":\"BasicTickFormatter\"},{\"attributes\":{\"axis_label\":\"Date\",\"formatter\":{\"id\":\"a96c7b3c-2ce7-4d3d-b008-988a07e88946\",\"type\":\"DatetimeTickFormatter\"},\"plot\":{\"id\":\"58c835ef-e482-4604-847e-f9bd6706b038\",\"subtype\":\"Chart\",\"type\":\"Plot\"},\"ticker\":{\"id\":\"a2d3ab39-afc5-4d86-9188-16da94a63493\",\"type\":\"DatetimeTicker\"}},\"id\":\"b87fd7f3-ed21-4a6b-b80d-d68c25424497\",\"type\":\"DatetimeAxis\"},{\"attributes\":{},\"id\":\"c9a01210-92f4-4c40-b86a-4a0fb6c4a69b\",\"type\":\"DatetimeTickFormatter\"},{\"attributes\":{\"callback\":null,\"end\":42},\"id\":\"73583fd4-bcec-43dd-9276-28cd34288e62\",\"type\":\"Range1d\"},{\"attributes\":{},\"id\":\"eee883f2-3cb8-40a8-9919-1edf9136de9d\",\"type\":\"BasicTicker\"},{\"attributes\":{\"months\":[0,4,8]},\"id\":\"8fbb64a8-230d-4445-9d8d-329d2167aae6\",\"type\":\"MonthsTicker\"},{\"attributes\":{\"line_color\":{\"value\":\"#f22c40\"},\"line_width\":{\"value\":2},\"x\":{\"field\":\"x_values\"},\"y\":{\"field\":\"y_values\"}},\"id\":\"8515e24c-1f91-482b-8d0f-90f83028d295\",\"type\":\"Line\"},{\"attributes\":{\"plot\":{\"id\":\"1a706627-5a0f-439c-adff-371a42c1e21a\",\"subtype\":\"Chart\",\"type\":\"Plot\"}},\"id\":\"37e9b465-fd2d-48a5-b92b-51c21583ad8e\",\"type\":\"ResizeTool\"},{\"attributes\":{},\"id\":\"72b13366-8388-4ac7-892d-0b4afb22a780\",\"type\":\"ToolEvents\"},{\"attributes\":{\"active\":[0,1],\"labels\":[\"DO\",\"NH4\",\"pH\"]},\"id\":\"5aa1d199-fb8a-4138-abe9-0ec27ca346c8\",\"type\":\"CheckboxButtonGroup\"},{\"attributes\":{\"children\":[{\"id\":\"84ba6d34-d514-42bc-b9ae-0999cddd7b7f\",\"type\":\"CheckboxButtonGroup\"},{\"id\":\"1a706627-5a0f-439c-adff-371a42c1e21a\",\"subtype\":\"Chart\",\"type\":\"Plot\"}]},\"id\":\"f702f12a-9c5c-43d2-a087-1d4cd18cb374\",\"type\":\"VBoxForm\"},{\"attributes\":{\"callback\":null,\"end\":0.1296538154,\"start\":-0.12158718940000002},\"id\":\"dca076e0-7e84-41fb-95f2-b5bc06582219\",\"type\":\"Range1d\"},{\"attributes\":{\"days\":[1,8,15,22]},\"id\":\"4106c732-1fc2-4c9a-8e80-75f0863c4690\",\"type\":\"DaysTicker\"},{\"attributes\":{\"callback\":null,\"column_names\":[\"x_values\",\"y_values\"],\"data\":{\"chart_index\":[{\"series\":\"DO\"},{\"series\":\"DO\"},{\"series\":\"DO\"},{\"series\":\"DO\"},{\"series\":\"DO\"},{\"series\":\"DO\"},{\"series\":\"DO\"},{\"series\":\"DO\"},{\"series\":\"DO\"},{\"series\":\"DO\"},{\"series\":\"DO\"},{\"series\":\"DO\"},{\"series\":\"DO\"},{\"series\":\"DO\"},{\"series\":\"DO\"},{\"series\":\"DO\"},{\"series\":\"DO\"},{\"series\":\"DO\"},{\"series\":\"DO\"},{\"series\":\"DO\"},{\"series\":\"DO\"},{\"series\":\"DO\"},{\"series\":\"DO\"},{\"series\":\"DO\"},{\"series\":\"DO\"},{\"series\":\"DO\"},{\"series\":\"DO\"},{\"series\":\"DO\"},{\"series\":\"DO\"},{\"series\":\"DO\"},{\"series\":\"DO\"},{\"series\":\"DO\"},{\"series\":\"DO\"},{\"series\":\"DO\"},{\"series\":\"DO\"},{\"series\":\"DO\"},{\"series\":\"DO\"},{\"series\":\"DO\"},{\"series\":\"DO\"},{\"series\":\"DO\"},{\"series\":\"DO\"},{\"series\":\"DO\"},{\"series\":\"DO\"}],\"series\":[\"DO\",\"DO\",\"DO\",\"DO\",\"DO\",\"DO\",\"DO\",\"DO\",\"DO\",\"DO\",\"DO\",\"DO\",\"DO\",\"DO\",\"DO\",\"DO\",\"DO\",\"DO\",\"DO\",\"DO\",\"DO\",\"DO\",\"DO\",\"DO\",\"DO\",\"DO\",\"DO\",\"DO\",\"DO\",\"DO\",\"DO\",\"DO\",\"DO\",\"DO\",\"DO\",\"DO\",\"DO\",\"DO\",\"DO\",\"DO\",\"DO\",\"DO\",\"DO\"],\"x_values\":[0,1,2,3,4,5,6,7,8,9,10,11,12,13,14,15,16,17,18,19,20,21,22,23,24,25,26,27,28,29,30,31,32,33,34,35,36,37,38,39,40,41,42],\"y_values\":[-0.10065043900000001,-0.041641712000000004,0.059711242000000005,0.039085506,0.057197907,0.07787828,0.047690945,0.063057801,0.084935651,0.107355325,0.10766825,0.09044495400000001,0.108717065,0.093176839,0.10604402,0.096813662,0.092284959,0.082795674,0.075728718,0.07502346,0.085898316,0.088184939,0.09127045800000001,0.08412746800000001,0.079654006,0.087565967,0.095954256,0.088317986,0.09635618900000001,0.09243923,0.089515231,0.096250211,0.08961297,0.09529806800000001,0.092696808,0.09711530800000001,0.09123867699999999,0.097145262,0.10226561199999999,0.097561516,0.095825436,0.098699151,0.098484956]}},\"id\":\"201f090c-00de-4d40-acb3-92a8132d55e1\",\"type\":\"ColumnDataSource\"},{\"attributes\":{\"months\":[0,2,4,6,8,10]},\"id\":\"e8756065-bf71-48ff-96c5-ce116375905e\",\"type\":\"MonthsTicker\"},{\"attributes\":{\"plot\":{\"id\":\"58c835ef-e482-4604-847e-f9bd6706b038\",\"subtype\":\"Chart\",\"type\":\"Plot\"}},\"id\":\"5053f9f9-deec-4466-9397-964ff956ca9c\",\"type\":\"ResetTool\"},{\"attributes\":{\"months\":[0,6]},\"id\":\"b00341da-8462-4dcb-9357-7065b799b5da\",\"type\":\"MonthsTicker\"},{\"attributes\":{},\"id\":\"13e8c4d8-4387-4632-8e14-fe22c72f3a91\",\"type\":\"BasicTicker\"},{\"attributes\":{\"plot\":{\"id\":\"1a706627-5a0f-439c-adff-371a42c1e21a\",\"subtype\":\"Chart\",\"type\":\"Plot\"}},\"id\":\"f176ddd7-fc1c-46cd-ad35-91dd3ac0b0e1\",\"type\":\"ResetTool\"},{\"attributes\":{\"bottom_units\":\"screen\",\"fill_alpha\":{\"value\":0.5},\"fill_color\":{\"value\":\"lightgrey\"},\"left_units\":\"screen\",\"level\":\"overlay\",\"line_alpha\":{\"value\":1.0},\"line_color\":{\"value\":\"black\"},\"line_dash\":[4,4],\"line_width\":{\"value\":2},\"plot\":null,\"render_mode\":\"css\",\"right_units\":\"screen\",\"top_units\":\"screen\"},\"id\":\"ce39e46a-6354-4b93-82ae-214ce78aaf2a\",\"type\":\"BoxAnnotation\"},{\"attributes\":{\"plot\":{\"id\":\"1a706627-5a0f-439c-adff-371a42c1e21a\",\"subtype\":\"Chart\",\"type\":\"Plot\"},\"ticker\":{\"id\":\"0b27946d-b947-45fb-979a-df8fc9de2932\",\"type\":\"DatetimeTicker\"}},\"id\":\"47b8a5fd-7fc2-4414-a1f1-86e50dccfa55\",\"type\":\"Grid\"},{\"attributes\":{\"dimension\":1,\"plot\":{\"id\":\"1a706627-5a0f-439c-adff-371a42c1e21a\",\"subtype\":\"Chart\",\"type\":\"Plot\"},\"ticker\":{\"id\":\"eee883f2-3cb8-40a8-9919-1edf9136de9d\",\"type\":\"BasicTicker\"}},\"id\":\"cce57ab4-3694-4342-abd4-8a5f92edaf57\",\"type\":\"Grid\"},{\"attributes\":{\"days\":[1,2,3,4,5,6,7,8,9,10,11,12,13,14,15,16,17,18,19,20,21,22,23,24,25,26,27,28,29,30,31]},\"id\":\"5c36f283-ad26-43ac-ac80-4bc704ec7704\",\"type\":\"DaysTicker\"},{\"attributes\":{\"plot\":{\"id\":\"1a706627-5a0f-439c-adff-371a42c1e21a\",\"subtype\":\"Chart\",\"type\":\"Plot\"}},\"id\":\"56edd168-1d7b-4d24-8001-a824a32dcd40\",\"type\":\"PanTool\"},{\"attributes\":{\"base\":60,\"mantissas\":[1,2,5,10,15,20,30],\"max_interval\":1800000.0,\"min_interval\":1000.0,\"num_minor_ticks\":0},\"id\":\"560c58bd-d16f-4799-973c-6c0d9a4ea06b\",\"type\":\"AdaptiveTicker\"},{\"attributes\":{\"line_color\":{\"value\":\"#f22c40\"},\"line_width\":{\"value\":2},\"x\":{\"field\":\"x_values\"},\"y\":{\"field\":\"y_values\"}},\"id\":\"e95bc3fe-991b-4113-8bde-0e7fd47de29b\",\"type\":\"Line\"},{\"attributes\":{\"overlay\":{\"id\":\"ed5360d7-69a4-42a0-afc2-4803367f27e5\",\"type\":\"BoxAnnotation\"},\"plot\":{\"id\":\"1a706627-5a0f-439c-adff-371a42c1e21a\",\"subtype\":\"Chart\",\"type\":\"Plot\"}},\"id\":\"193a0245-65d6-48d0-8f4a-793b3605f8b2\",\"type\":\"BoxZoomTool\"},{\"attributes\":{\"max_interval\":500.0,\"num_minor_ticks\":0},\"id\":\"4188f5fc-4262-4390-b363-0e36cf35c751\",\"type\":\"AdaptiveTicker\"},{\"attributes\":{\"plot\":{\"id\":\"58c835ef-e482-4604-847e-f9bd6706b038\",\"subtype\":\"Chart\",\"type\":\"Plot\"}},\"id\":\"89ad1026-1e8a-4eb3-a3ee-188cd930823b\",\"type\":\"ResizeTool\"},{\"attributes\":{\"days\":[1,2,3,4,5,6,7,8,9,10,11,12,13,14,15,16,17,18,19,20,21,22,23,24,25,26,27,28,29,30,31]},\"id\":\"358b1e89-770e-4064-af41-9a51d1f0e14b\",\"type\":\"DaysTicker\"},{\"attributes\":{\"plot\":{\"id\":\"1a706627-5a0f-439c-adff-371a42c1e21a\",\"subtype\":\"Chart\",\"type\":\"Plot\"}},\"id\":\"ae642f90-791c-4b07-8a5b-cc1abd5f025d\",\"type\":\"HelpTool\"},{\"attributes\":{\"days\":[1,8,15,22]},\"id\":\"d8e51ebe-100c-4753-9fae-a8dce5219bf5\",\"type\":\"DaysTicker\"},{\"attributes\":{\"max_interval\":500.0,\"num_minor_ticks\":0},\"id\":\"d9bcc4ac-f60f-4efa-afc1-8ef937925abb\",\"type\":\"AdaptiveTicker\"},{\"attributes\":{\"plot\":{\"id\":\"1a706627-5a0f-439c-adff-371a42c1e21a\",\"subtype\":\"Chart\",\"type\":\"Plot\"}},\"id\":\"8e6ed586-f022-4d12-be40-e4a5aaaa3d80\",\"type\":\"WheelZoomTool\"},{\"attributes\":{\"plot\":{\"id\":\"58c835ef-e482-4604-847e-f9bd6706b038\",\"subtype\":\"Chart\",\"type\":\"Plot\"},\"ticker\":{\"id\":\"a2d3ab39-afc5-4d86-9188-16da94a63493\",\"type\":\"DatetimeTicker\"}},\"id\":\"11b33aee-0222-429f-a434-6b1181bf3ed0\",\"type\":\"Grid\"},{\"attributes\":{\"dimension\":1,\"plot\":{\"id\":\"58c835ef-e482-4604-847e-f9bd6706b038\",\"subtype\":\"Chart\",\"type\":\"Plot\"},\"ticker\":{\"id\":\"13e8c4d8-4387-4632-8e14-fe22c72f3a91\",\"type\":\"BasicTicker\"}},\"id\":\"7e9c324b-67b5-473a-8c86-e928161c33ae\",\"type\":\"Grid\"},{\"attributes\":{\"months\":[0,1,2,3,4,5,6,7,8,9,10,11]},\"id\":\"8f340bf5-b3a9-4039-8200-11380a987d43\",\"type\":\"MonthsTicker\"},{\"attributes\":{\"months\":[0,1,2,3,4,5,6,7,8,9,10,11]},\"id\":\"1486785b-28ab-4bd7-8d7a-9988ef3d1408\",\"type\":\"MonthsTicker\"},{\"attributes\":{\"axis_label\":\"DO\",\"formatter\":{\"id\":\"98fca6e6-b2dc-4ec2-be68-5c13d2d99236\",\"type\":\"BasicTickFormatter\"},\"plot\":{\"id\":\"58c835ef-e482-4604-847e-f9bd6706b038\",\"subtype\":\"Chart\",\"type\":\"Plot\"},\"ticker\":{\"id\":\"13e8c4d8-4387-4632-8e14-fe22c72f3a91\",\"type\":\"BasicTicker\"}},\"id\":\"d520985f-a272-4701-a365-2c3bb0ba7a13\",\"type\":\"LinearAxis\"},{\"attributes\":{\"overlay\":{\"id\":\"ce39e46a-6354-4b93-82ae-214ce78aaf2a\",\"type\":\"BoxAnnotation\"},\"plot\":{\"id\":\"58c835ef-e482-4604-847e-f9bd6706b038\",\"subtype\":\"Chart\",\"type\":\"Plot\"}},\"id\":\"7adaba67-39d8-44e2-bf02-cf0bf8f7af5e\",\"type\":\"BoxZoomTool\"},{\"attributes\":{\"legends\":[[\"DO\",[{\"id\":\"313369f7-2281-4698-b990-a6d365d29053\",\"type\":\"GlyphRenderer\"}]]],\"location\":\"top_left\",\"plot\":{\"id\":\"58c835ef-e482-4604-847e-f9bd6706b038\",\"subtype\":\"Chart\",\"type\":\"Plot\"}},\"id\":\"752bdb76-b1f2-4b99-86e4-6b05c7c0c9d4\",\"type\":\"Legend\"},{\"attributes\":{\"axis_label\":\"Date\",\"formatter\":{\"id\":\"c9a01210-92f4-4c40-b86a-4a0fb6c4a69b\",\"type\":\"DatetimeTickFormatter\"},\"plot\":{\"id\":\"1a706627-5a0f-439c-adff-371a42c1e21a\",\"subtype\":\"Chart\",\"type\":\"Plot\"},\"ticker\":{\"id\":\"0b27946d-b947-45fb-979a-df8fc9de2932\",\"type\":\"DatetimeTicker\"}},\"id\":\"2d6db8e4-bcf8-4bd0-84ff-84049f53db59\",\"type\":\"DatetimeAxis\"},{\"attributes\":{\"months\":[0,4,8]},\"id\":\"9e72b6bf-d919-4c03-b282-c3230132d180\",\"type\":\"MonthsTicker\"},{\"attributes\":{\"months\":[0,6]},\"id\":\"cd52e4d1-3efb-406d-9af6-b581e5c48a04\",\"type\":\"MonthsTicker\"},{\"attributes\":{\"data_source\":{\"id\":\"201f090c-00de-4d40-acb3-92a8132d55e1\",\"type\":\"ColumnDataSource\"},\"glyph\":{\"id\":\"e95bc3fe-991b-4113-8bde-0e7fd47de29b\",\"type\":\"Line\"},\"hover_glyph\":null,\"nonselection_glyph\":null,\"selection_glyph\":null},\"id\":\"313369f7-2281-4698-b990-a6d365d29053\",\"type\":\"GlyphRenderer\"},{\"attributes\":{\"plot\":{\"id\":\"1a706627-5a0f-439c-adff-371a42c1e21a\",\"subtype\":\"Chart\",\"type\":\"Plot\"}},\"id\":\"560ed5fd-3fff-43bd-bad9-aea8a6c34b84\",\"type\":\"PreviewSaveTool\"},{\"attributes\":{\"plot\":{\"id\":\"58c835ef-e482-4604-847e-f9bd6706b038\",\"subtype\":\"Chart\",\"type\":\"Plot\"}},\"id\":\"451bb7dc-3ab7-4008-975d-13a3d74c0a4d\",\"type\":\"WheelZoomTool\"},{\"attributes\":{\"days\":[1,4,7,10,13,16,19,22,25,28]},\"id\":\"bf7594df-3493-4e01-aef1-367828c39f91\",\"type\":\"DaysTicker\"},{\"attributes\":{\"active\":[0,1],\"labels\":[\"DO\"]},\"id\":\"84ba6d34-d514-42bc-b9ae-0999cddd7b7f\",\"type\":\"CheckboxButtonGroup\"},{\"attributes\":{},\"id\":\"bf3f8d63-e301-44cb-8861-d585db3a91ff\",\"type\":\"YearsTicker\"},{\"attributes\":{\"bottom_units\":\"screen\",\"fill_alpha\":{\"value\":0.5},\"fill_color\":{\"value\":\"lightgrey\"},\"left_units\":\"screen\",\"level\":\"overlay\",\"line_alpha\":{\"value\":1.0},\"line_color\":{\"value\":\"black\"},\"line_dash\":[4,4],\"line_width\":{\"value\":2},\"plot\":null,\"render_mode\":\"css\",\"right_units\":\"screen\",\"top_units\":\"screen\"},\"id\":\"ed5360d7-69a4-42a0-afc2-4803367f27e5\",\"type\":\"BoxAnnotation\"},{\"attributes\":{\"children\":[{\"id\":\"5aa1d199-fb8a-4138-abe9-0ec27ca346c8\",\"type\":\"CheckboxButtonGroup\"},{\"id\":\"58c835ef-e482-4604-847e-f9bd6706b038\",\"subtype\":\"Chart\",\"type\":\"Plot\"}]},\"id\":\"f7e3ac3f-f35b-4ca5-b41a-c2d32a510a3d\",\"type\":\"VBoxForm\"},{\"attributes\":{\"days\":[1,15]},\"id\":\"baee45df-16d0-4aee-97c9-1301cb413df2\",\"type\":\"DaysTicker\"},{\"attributes\":{\"callback\":null,\"end\":42},\"id\":\"8fa3b40e-1164-49d9-afed-06cf4c73d3e2\",\"type\":\"Range1d\"},{\"attributes\":{\"callback\":null,\"column_names\":[\"x_values\",\"y_values\"],\"data\":{\"chart_index\":[{\"series\":\"DO\"},{\"series\":\"DO\"},{\"series\":\"DO\"},{\"series\":\"DO\"},{\"series\":\"DO\"},{\"series\":\"DO\"},{\"series\":\"DO\"},{\"series\":\"DO\"},{\"series\":\"DO\"},{\"series\":\"DO\"},{\"series\":\"DO\"},{\"series\":\"DO\"},{\"series\":\"DO\"},{\"series\":\"DO\"},{\"series\":\"DO\"},{\"series\":\"DO\"},{\"series\":\"DO\"},{\"series\":\"DO\"},{\"series\":\"DO\"},{\"series\":\"DO\"},{\"series\":\"DO\"},{\"series\":\"DO\"},{\"series\":\"DO\"},{\"series\":\"DO\"},{\"series\":\"DO\"},{\"series\":\"DO\"},{\"series\":\"DO\"},{\"series\":\"DO\"},{\"series\":\"DO\"},{\"series\":\"DO\"},{\"series\":\"DO\"},{\"series\":\"DO\"},{\"series\":\"DO\"},{\"series\":\"DO\"},{\"series\":\"DO\"},{\"series\":\"DO\"},{\"series\":\"DO\"},{\"series\":\"DO\"},{\"series\":\"DO\"},{\"series\":\"DO\"},{\"series\":\"DO\"},{\"series\":\"DO\"},{\"series\":\"DO\"}],\"series\":[\"DO\",\"DO\",\"DO\",\"DO\",\"DO\",\"DO\",\"DO\",\"DO\",\"DO\",\"DO\",\"DO\",\"DO\",\"DO\",\"DO\",\"DO\",\"DO\",\"DO\",\"DO\",\"DO\",\"DO\",\"DO\",\"DO\",\"DO\",\"DO\",\"DO\",\"DO\",\"DO\",\"DO\",\"DO\",\"DO\",\"DO\",\"DO\",\"DO\",\"DO\",\"DO\",\"DO\",\"DO\",\"DO\",\"DO\",\"DO\",\"DO\",\"DO\",\"DO\"],\"x_values\":[0,1,2,3,4,5,6,7,8,9,10,11,12,13,14,15,16,17,18,19,20,21,22,23,24,25,26,27,28,29,30,31,32,33,34,35,36,37,38,39,40,41,42],\"y_values\":[-0.10065043900000001,-0.041641712000000004,0.059711242000000005,0.039085506,0.057197907,0.07787828,0.047690945,0.063057801,0.084935651,0.107355325,0.10766825,0.09044495400000001,0.108717065,0.093176839,0.10604402,0.096813662,0.092284959,0.082795674,0.075728718,0.07502346,0.085898316,0.088184939,0.09127045800000001,0.08412746800000001,0.079654006,0.087565967,0.095954256,0.088317986,0.09635618900000001,0.09243923,0.089515231,0.096250211,0.08961297,0.09529806800000001,0.092696808,0.09711530800000001,0.09123867699999999,0.097145262,0.10226561199999999,0.097561516,0.095825436,0.098699151,0.098484956]}},\"id\":\"2d892e53-5be2-409d-92f3-6c43dee786b3\",\"type\":\"ColumnDataSource\"},{\"attributes\":{\"data_source\":{\"id\":\"2d892e53-5be2-409d-92f3-6c43dee786b3\",\"type\":\"ColumnDataSource\"},\"glyph\":{\"id\":\"8515e24c-1f91-482b-8d0f-90f83028d295\",\"type\":\"Line\"},\"hover_glyph\":null,\"nonselection_glyph\":null,\"selection_glyph\":null},\"id\":\"a23fe822-f79a-41ff-a769-7f35d567e24a\",\"type\":\"GlyphRenderer\"},{\"attributes\":{},\"id\":\"a96c7b3c-2ce7-4d3d-b008-988a07e88946\",\"type\":\"DatetimeTickFormatter\"},{\"attributes\":{\"plot\":{\"id\":\"58c835ef-e482-4604-847e-f9bd6706b038\",\"subtype\":\"Chart\",\"type\":\"Plot\"}},\"id\":\"ce06bc4f-20b6-4a14-ba9f-301556aee4a9\",\"type\":\"PreviewSaveTool\"},{\"attributes\":{\"base\":24,\"mantissas\":[1,2,4,6,8,12],\"max_interval\":43200000.0,\"min_interval\":3600000.0,\"num_minor_ticks\":0},\"id\":\"7af3ab00-6ca2-4a1f-968a-e3f81620d5a7\",\"type\":\"AdaptiveTicker\"},{\"attributes\":{\"below\":[{\"id\":\"b87fd7f3-ed21-4a6b-b80d-d68c25424497\",\"type\":\"DatetimeAxis\"}],\"left\":[{\"id\":\"d520985f-a272-4701-a365-2c3bb0ba7a13\",\"type\":\"LinearAxis\"}],\"legend\":\"top_left\",\"renderers\":[{\"id\":\"ce39e46a-6354-4b93-82ae-214ce78aaf2a\",\"type\":\"BoxAnnotation\"},{\"id\":\"313369f7-2281-4698-b990-a6d365d29053\",\"type\":\"GlyphRenderer\"},{\"id\":\"752bdb76-b1f2-4b99-86e4-6b05c7c0c9d4\",\"type\":\"Legend\"},{\"id\":\"b87fd7f3-ed21-4a6b-b80d-d68c25424497\",\"type\":\"DatetimeAxis\"},{\"id\":\"d520985f-a272-4701-a365-2c3bb0ba7a13\",\"type\":\"LinearAxis\"},{\"id\":\"11b33aee-0222-429f-a434-6b1181bf3ed0\",\"type\":\"Grid\"},{\"id\":\"7e9c324b-67b5-473a-8c86-e928161c33ae\",\"type\":\"Grid\"}],\"title_text_font_size\":{\"value\":\"14pt\"},\"tool_events\":{\"id\":\"c24a06f2-298d-4bfb-ae23-6411f36376c8\",\"type\":\"ToolEvents\"},\"tools\":[{\"id\":\"7d95b6f8-c18f-42d7-ae18-4a3801b73e6c\",\"type\":\"PanTool\"},{\"id\":\"451bb7dc-3ab7-4008-975d-13a3d74c0a4d\",\"type\":\"WheelZoomTool\"},{\"id\":\"7adaba67-39d8-44e2-bf02-cf0bf8f7af5e\",\"type\":\"BoxZoomTool\"},{\"id\":\"ce06bc4f-20b6-4a14-ba9f-301556aee4a9\",\"type\":\"PreviewSaveTool\"},{\"id\":\"89ad1026-1e8a-4eb3-a3ee-188cd930823b\",\"type\":\"ResizeTool\"},{\"id\":\"5053f9f9-deec-4466-9397-964ff956ca9c\",\"type\":\"ResetTool\"},{\"id\":\"e4bc4450-f762-4485-bf42-49633a5d3040\",\"type\":\"HelpTool\"}],\"x_mapper_type\":\"auto\",\"x_range\":{\"id\":\"73583fd4-bcec-43dd-9276-28cd34288e62\",\"type\":\"Range1d\"},\"xscale\":\"auto\",\"y_mapper_type\":\"auto\",\"y_range\":{\"id\":\"dca076e0-7e84-41fb-95f2-b5bc06582219\",\"type\":\"Range1d\"},\"yscale\":\"auto\"},\"id\":\"58c835ef-e482-4604-847e-f9bd6706b038\",\"subtype\":\"Chart\",\"type\":\"Plot\"},{\"attributes\":{\"plot\":{\"id\":\"58c835ef-e482-4604-847e-f9bd6706b038\",\"subtype\":\"Chart\",\"type\":\"Plot\"}},\"id\":\"7d95b6f8-c18f-42d7-ae18-4a3801b73e6c\",\"type\":\"PanTool\"},{\"attributes\":{},\"id\":\"c24a06f2-298d-4bfb-ae23-6411f36376c8\",\"type\":\"ToolEvents\"},{\"attributes\":{\"below\":[{\"id\":\"2d6db8e4-bcf8-4bd0-84ff-84049f53db59\",\"type\":\"DatetimeAxis\"}],\"left\":[{\"id\":\"55169381-5d18-4f47-a82f-1f88e409b526\",\"type\":\"LinearAxis\"}],\"legend\":\"top_left\",\"renderers\":[{\"id\":\"ed5360d7-69a4-42a0-afc2-4803367f27e5\",\"type\":\"BoxAnnotation\"},{\"id\":\"a23fe822-f79a-41ff-a769-7f35d567e24a\",\"type\":\"GlyphRenderer\"},{\"id\":\"ac493b2c-cb48-468e-856b-25fde4900a9b\",\"type\":\"Legend\"},{\"id\":\"2d6db8e4-bcf8-4bd0-84ff-84049f53db59\",\"type\":\"DatetimeAxis\"},{\"id\":\"55169381-5d18-4f47-a82f-1f88e409b526\",\"type\":\"LinearAxis\"},{\"id\":\"47b8a5fd-7fc2-4414-a1f1-86e50dccfa55\",\"type\":\"Grid\"},{\"id\":\"cce57ab4-3694-4342-abd4-8a5f92edaf57\",\"type\":\"Grid\"}],\"title_text_font_size\":{\"value\":\"14pt\"},\"tool_events\":{\"id\":\"72b13366-8388-4ac7-892d-0b4afb22a780\",\"type\":\"ToolEvents\"},\"tools\":[{\"id\":\"56edd168-1d7b-4d24-8001-a824a32dcd40\",\"type\":\"PanTool\"},{\"id\":\"8e6ed586-f022-4d12-be40-e4a5aaaa3d80\",\"type\":\"WheelZoomTool\"},{\"id\":\"193a0245-65d6-48d0-8f4a-793b3605f8b2\",\"type\":\"BoxZoomTool\"},{\"id\":\"560ed5fd-3fff-43bd-bad9-aea8a6c34b84\",\"type\":\"PreviewSaveTool\"},{\"id\":\"37e9b465-fd2d-48a5-b92b-51c21583ad8e\",\"type\":\"ResizeTool\"},{\"id\":\"f176ddd7-fc1c-46cd-ad35-91dd3ac0b0e1\",\"type\":\"ResetTool\"},{\"id\":\"ae642f90-791c-4b07-8a5b-cc1abd5f025d\",\"type\":\"HelpTool\"}],\"x_mapper_type\":\"auto\",\"x_range\":{\"id\":\"8fa3b40e-1164-49d9-afed-06cf4c73d3e2\",\"type\":\"Range1d\"},\"xscale\":\"auto\",\"y_mapper_type\":\"auto\",\"y_range\":{\"id\":\"0829431d-e2f6-4190-b07b-d4a0e42ce5f4\",\"type\":\"Range1d\"},\"yscale\":\"auto\"},\"id\":\"1a706627-5a0f-439c-adff-371a42c1e21a\",\"subtype\":\"Chart\",\"type\":\"Plot\"},{\"attributes\":{\"axis_label\":\"DO\",\"formatter\":{\"id\":\"a690ea57-ef02-415b-9913-7ef5d0dcd005\",\"type\":\"BasicTickFormatter\"},\"plot\":{\"id\":\"1a706627-5a0f-439c-adff-371a42c1e21a\",\"subtype\":\"Chart\",\"type\":\"Plot\"},\"ticker\":{\"id\":\"eee883f2-3cb8-40a8-9919-1edf9136de9d\",\"type\":\"BasicTicker\"}},\"id\":\"55169381-5d18-4f47-a82f-1f88e409b526\",\"type\":\"LinearAxis\"},{\"attributes\":{\"base\":60,\"mantissas\":[1,2,5,10,15,20,30],\"max_interval\":1800000.0,\"min_interval\":1000.0,\"num_minor_ticks\":0},\"id\":\"e5e327db-6afc-477c-b4fd-c68008a66474\",\"type\":\"AdaptiveTicker\"},{\"attributes\":{\"legends\":[[\"DO\",[{\"id\":\"a23fe822-f79a-41ff-a769-7f35d567e24a\",\"type\":\"GlyphRenderer\"}]]],\"location\":\"top_left\",\"plot\":{\"id\":\"1a706627-5a0f-439c-adff-371a42c1e21a\",\"subtype\":\"Chart\",\"type\":\"Plot\"}},\"id\":\"ac493b2c-cb48-468e-856b-25fde4900a9b\",\"type\":\"Legend\"},{\"attributes\":{},\"id\":\"51989026-3670-4952-9416-7e01c11e1c8e\",\"type\":\"YearsTicker\"},{\"attributes\":{},\"id\":\"0b27946d-b947-45fb-979a-df8fc9de2932\",\"type\":\"DatetimeTicker\"},{\"attributes\":{\"months\":[0,2,4,6,8,10]},\"id\":\"617f603e-16e6-4720-a248-b647979e5283\",\"type\":\"MonthsTicker\"},{\"attributes\":{\"plot\":{\"id\":\"58c835ef-e482-4604-847e-f9bd6706b038\",\"subtype\":\"Chart\",\"type\":\"Plot\"}},\"id\":\"e4bc4450-f762-4485-bf42-49633a5d3040\",\"type\":\"HelpTool\"},{\"attributes\":{\"callback\":null,\"end\":0.1296538154,\"start\":-0.12158718940000002},\"id\":\"0829431d-e2f6-4190-b07b-d4a0e42ce5f4\",\"type\":\"Range1d\"}],\"root_ids\":[\"1a706627-5a0f-439c-adff-371a42c1e21a\",\"f702f12a-9c5c-43d2-a087-1d4cd18cb374\",\"58c835ef-e482-4604-847e-f9bd6706b038\",\"f7e3ac3f-f35b-4ca5-b41a-c2d32a510a3d\"]},\"title\":\"Bokeh Application\",\"version\":\"0.11.1\"}};\n",
       "            var render_items = [{\"docid\":\"c8d3637d-409b-432f-aa5f-10c1c3a67eb7\",\"elementid\":\"36705a12-63d6-4086-9343-78d79df57497\",\"modelid\":\"f7e3ac3f-f35b-4ca5-b41a-c2d32a510a3d\",\"notebook_comms_target\":\"49079645-48f0-4df1-a7fa-d80a7b8cd123\"}];\n",
       "            \n",
       "            Bokeh.embed.embed_items(docs_json, render_items);\n",
       "        });\n",
       "      },\n",
       "      function(Bokeh) {\n",
       "      }\n",
       "    ];\n",
       "  \n",
       "    function run_inline_js() {\n",
       "      for (var i = 0; i < inline_js.length; i++) {\n",
       "        inline_js[i](window.Bokeh);\n",
       "      }\n",
       "    }\n",
       "  \n",
       "    if (window._bokeh_is_loading === 0) {\n",
       "      console.log(\"Bokeh: BokehJS loaded, going straight to plotting\");\n",
       "      run_inline_js();\n",
       "    } else {\n",
       "      load_libs(js_urls, function() {\n",
       "        console.log(\"Bokeh: BokehJS plotting callback run at\", now());\n",
       "        run_inline_js();\n",
       "      });\n",
       "    }\n",
       "  }(this));\n",
       "</script>"
      ]
     },
     "metadata": {},
     "output_type": "display_data"
    },
    {
     "name": "stderr",
     "output_type": "stream",
     "text": [
      "ERROR:C:\\Users\\maest\\Miniconda3\\lib\\site-packages\\bokeh\\core\\validation\\check.py:W-1004 (BOTH_CHILD_AND_ROOT): Models should not be a document root if they are in a layout box: Chart, ViewModel:Plot, ref _id: 1a706627-5a0f-439c-adff-371a42c1e21a\n",
      "ERROR:C:\\Users\\maest\\Miniconda3\\lib\\site-packages\\bokeh\\core\\validation\\check.py:W-1004 (BOTH_CHILD_AND_ROOT): Models should not be a document root if they are in a layout box: Chart, ViewModel:Plot, ref _id: 58c835ef-e482-4604-847e-f9bd6706b038\n"
     ]
    },
    {
     "data": {
      "text/html": [
       "<p><code>&lt;Bokeh Notebook handle for <strong>In[4]</strong>&gt;</code></p>"
      ],
      "text/plain": [
       "<bokeh.io._CommsHandle at 0x16cdc8a8c50>"
      ]
     },
     "execution_count": 4,
     "metadata": {},
     "output_type": "execute_result"
    }
   ],
   "source": [
    "import numpy as np\n",
    "from bokeh.charts import *\n",
    "from bokeh.io import output_notebook, show, output_file, vform\n",
    "from bokeh.models import ColumnDataSource, CustomJS\n",
    "import pandas as pd\n",
    "from bokeh.models.widgets import CheckboxButtonGroup, Slider\n",
    "\n",
    "# Accept/Setup Dataframe to be Plotted\n",
    "sample_data_live = 'sampledatalive.csv'\n",
    "sample = pd.read_csv(sample_data_live, parse_dates = [0])\n",
    "sampleSI = sample.set_index('Date')\n",
    "\n",
    "# Plot a Specified Column in Dataframe\n",
    "lineplot = Line(sampleSI['DO'], xlabel='Date', ylabel='DO', legend=\"top_left\")\n",
    "checkbox_button_group = CheckboxButtonGroup(labels=[\"DO\", \"NH4\", \"pH\"], active=[0, 1])\n",
    "output_notebook()\n",
    "show(vform(checkbox_button_group, lineplot))"
   ]
  },
  {
   "cell_type": "code",
   "execution_count": 5,
   "metadata": {
    "collapsed": false
   },
   "outputs": [
    {
     "ename": "NameError",
     "evalue": "name 'figure' is not defined",
     "output_type": "error",
     "traceback": [
      "\u001b[1;31m---------------------------------------------------------------------------\u001b[0m",
      "\u001b[1;31mNameError\u001b[0m                                 Traceback (most recent call last)",
      "\u001b[1;32m<ipython-input-5-eb0e1216cb15>\u001b[0m in \u001b[0;36m<module>\u001b[1;34m()\u001b[0m\n\u001b[0;32m      1\u001b[0m \u001b[0msource\u001b[0m\u001b[1;33m=\u001b[0m\u001b[0mColumnDataSource\u001b[0m\u001b[1;33m(\u001b[0m\u001b[0mdata\u001b[0m\u001b[1;33m=\u001b[0m\u001b[0msampleSI\u001b[0m\u001b[1;33m)\u001b[0m\u001b[1;33m\u001b[0m\u001b[0m\n\u001b[1;32m----> 2\u001b[1;33m \u001b[0mplot\u001b[0m \u001b[1;33m=\u001b[0m \u001b[0mfigure\u001b[0m\u001b[1;33m(\u001b[0m\u001b[0mplot_width\u001b[0m\u001b[1;33m=\u001b[0m\u001b[1;36m600\u001b[0m\u001b[1;33m,\u001b[0m \u001b[0mplot_height\u001b[0m\u001b[1;33m=\u001b[0m\u001b[1;36m400\u001b[0m\u001b[1;33m)\u001b[0m\u001b[1;33m\u001b[0m\u001b[0m\n\u001b[0m\u001b[0;32m      3\u001b[0m \u001b[0mplot\u001b[0m\u001b[1;33m.\u001b[0m\u001b[0mline\u001b[0m\u001b[1;33m(\u001b[0m\u001b[1;34m'x'\u001b[0m\u001b[1;33m,\u001b[0m \u001b[1;34m'y'\u001b[0m\u001b[1;33m,\u001b[0m \u001b[0msource\u001b[0m\u001b[1;33m=\u001b[0m\u001b[0msource\u001b[0m\u001b[1;33m,\u001b[0m \u001b[0mline_width\u001b[0m\u001b[1;33m=\u001b[0m\u001b[1;36m3\u001b[0m\u001b[1;33m,\u001b[0m \u001b[0mline_alpha\u001b[0m\u001b[1;33m=\u001b[0m\u001b[1;36m0.5\u001b[0m\u001b[1;33m)\u001b[0m\u001b[1;33m\u001b[0m\u001b[0m\n",
      "\u001b[1;31mNameError\u001b[0m: name 'figure' is not defined"
     ]
    }
   ],
   "source": [
    "source=ColumnDataSource(data=sampleSI)\n",
    "plot = figure(plot_width=600, plot_height=400)\n",
    "plot.line('x', 'y', source=source, line_width=3, line_alpha=0.5)"
   ]
  },
  {
   "cell_type": "code",
   "execution_count": 26,
   "metadata": {
    "collapsed": false
   },
   "outputs": [
    {
     "ename": "AttributeError",
     "evalue": "unexpected attribute 'labels' to Slider, possible attributes are callback, disabled, end, name, orientation, start, step, tags, title or value",
     "output_type": "error",
     "traceback": [
      "\u001b[1;31m---------------------------------------------------------------------------\u001b[0m",
      "\u001b[1;31mAttributeError\u001b[0m                            Traceback (most recent call last)",
      "\u001b[1;32m<ipython-input-26-f4008e94fdd3>\u001b[0m in \u001b[0;36m<module>\u001b[1;34m()\u001b[0m\n\u001b[0;32m      6\u001b[0m     \"\"\")\n\u001b[0;32m      7\u001b[0m \u001b[1;33m\u001b[0m\u001b[0m\n\u001b[1;32m----> 8\u001b[1;33m \u001b[0mslider\u001b[0m \u001b[1;33m=\u001b[0m \u001b[0mSlider\u001b[0m\u001b[1;33m(\u001b[0m\u001b[0mlabels\u001b[0m\u001b[1;33m=\u001b[0m\u001b[1;33m[\u001b[0m\u001b[1;34m\"DO\"\u001b[0m\u001b[1;33m,\u001b[0m \u001b[1;34m\"NH4\"\u001b[0m\u001b[1;33m,\u001b[0m \u001b[1;34m\"pH\"\u001b[0m\u001b[1;33m]\u001b[0m\u001b[1;33m,\u001b[0m \u001b[0mactive\u001b[0m\u001b[1;33m=\u001b[0m\u001b[1;33m[\u001b[0m\u001b[1;36m0\u001b[0m\u001b[1;33m,\u001b[0m \u001b[1;36m1\u001b[0m\u001b[1;33m]\u001b[0m\u001b[1;33m,\u001b[0m \u001b[0mcallback\u001b[0m\u001b[1;33m=\u001b[0m\u001b[0mcallback\u001b[0m\u001b[1;33m)\u001b[0m\u001b[1;33m\u001b[0m\u001b[0m\n\u001b[0m",
      "\u001b[1;32mC:\\Users\\maest\\Miniconda3\\lib\\site-packages\\bokeh\\model.py\u001b[0m in \u001b[0;36m__init__\u001b[1;34m(self, **kwargs)\u001b[0m\n\u001b[0;32m     81\u001b[0m         \u001b[0mself\u001b[0m\u001b[1;33m.\u001b[0m\u001b[0m_id\u001b[0m \u001b[1;33m=\u001b[0m \u001b[0mkwargs\u001b[0m\u001b[1;33m.\u001b[0m\u001b[0mpop\u001b[0m\u001b[1;33m(\u001b[0m\u001b[1;34m\"id\"\u001b[0m\u001b[1;33m,\u001b[0m \u001b[0mmake_id\u001b[0m\u001b[1;33m(\u001b[0m\u001b[1;33m)\u001b[0m\u001b[1;33m)\u001b[0m\u001b[1;33m\u001b[0m\u001b[0m\n\u001b[0;32m     82\u001b[0m         \u001b[0mself\u001b[0m\u001b[1;33m.\u001b[0m\u001b[0m_document\u001b[0m \u001b[1;33m=\u001b[0m \u001b[1;32mNone\u001b[0m\u001b[1;33m\u001b[0m\u001b[0m\n\u001b[1;32m---> 83\u001b[1;33m         \u001b[0msuper\u001b[0m\u001b[1;33m(\u001b[0m\u001b[0mModel\u001b[0m\u001b[1;33m,\u001b[0m \u001b[0mself\u001b[0m\u001b[1;33m)\u001b[0m\u001b[1;33m.\u001b[0m\u001b[0m__init__\u001b[0m\u001b[1;33m(\u001b[0m\u001b[1;33m**\u001b[0m\u001b[0mkwargs\u001b[0m\u001b[1;33m)\u001b[0m\u001b[1;33m\u001b[0m\u001b[0m\n\u001b[0m\u001b[0;32m     84\u001b[0m         \u001b[0mdefault_theme\u001b[0m\u001b[1;33m.\u001b[0m\u001b[0mapply_to_model\u001b[0m\u001b[1;33m(\u001b[0m\u001b[0mself\u001b[0m\u001b[1;33m)\u001b[0m\u001b[1;33m\u001b[0m\u001b[0m\n\u001b[0;32m     85\u001b[0m \u001b[1;33m\u001b[0m\u001b[0m\n",
      "\u001b[1;32mC:\\Users\\maest\\Miniconda3\\lib\\site-packages\\bokeh\\core\\properties.py\u001b[0m in \u001b[0;36m__init__\u001b[1;34m(self, **properties)\u001b[0m\n\u001b[0;32m    699\u001b[0m \u001b[1;33m\u001b[0m\u001b[0m\n\u001b[0;32m    700\u001b[0m         \u001b[1;32mfor\u001b[0m \u001b[0mname\u001b[0m\u001b[1;33m,\u001b[0m \u001b[0mvalue\u001b[0m \u001b[1;32min\u001b[0m \u001b[0mproperties\u001b[0m\u001b[1;33m.\u001b[0m\u001b[0mitems\u001b[0m\u001b[1;33m(\u001b[0m\u001b[1;33m)\u001b[0m\u001b[1;33m:\u001b[0m\u001b[1;33m\u001b[0m\u001b[0m\n\u001b[1;32m--> 701\u001b[1;33m             \u001b[0msetattr\u001b[0m\u001b[1;33m(\u001b[0m\u001b[0mself\u001b[0m\u001b[1;33m,\u001b[0m \u001b[0mname\u001b[0m\u001b[1;33m,\u001b[0m \u001b[0mvalue\u001b[0m\u001b[1;33m)\u001b[0m\u001b[1;33m\u001b[0m\u001b[0m\n\u001b[0m\u001b[0;32m    702\u001b[0m \u001b[1;33m\u001b[0m\u001b[0m\n\u001b[0;32m    703\u001b[0m     \u001b[1;32mdef\u001b[0m \u001b[0m__setattr__\u001b[0m\u001b[1;33m(\u001b[0m\u001b[0mself\u001b[0m\u001b[1;33m,\u001b[0m \u001b[0mname\u001b[0m\u001b[1;33m,\u001b[0m \u001b[0mvalue\u001b[0m\u001b[1;33m)\u001b[0m\u001b[1;33m:\u001b[0m\u001b[1;33m\u001b[0m\u001b[0m\n",
      "\u001b[1;32mC:\\Users\\maest\\Miniconda3\\lib\\site-packages\\bokeh\\core\\properties.py\u001b[0m in \u001b[0;36m__setattr__\u001b[1;34m(self, name, value)\u001b[0m\n\u001b[0;32m    720\u001b[0m \u001b[1;33m\u001b[0m\u001b[0m\n\u001b[0;32m    721\u001b[0m             raise AttributeError(\"unexpected attribute '%s' to %s, %s attributes are %s\" %\n\u001b[1;32m--> 722\u001b[1;33m                 (name, self.__class__.__name__, text, nice_join(matches)))\n\u001b[0m\u001b[0;32m    723\u001b[0m \u001b[1;33m\u001b[0m\u001b[0m\n\u001b[0;32m    724\u001b[0m     \u001b[1;32mdef\u001b[0m \u001b[0mset_from_json\u001b[0m\u001b[1;33m(\u001b[0m\u001b[0mself\u001b[0m\u001b[1;33m,\u001b[0m \u001b[0mname\u001b[0m\u001b[1;33m,\u001b[0m \u001b[0mjson\u001b[0m\u001b[1;33m,\u001b[0m \u001b[0mmodels\u001b[0m\u001b[1;33m=\u001b[0m\u001b[1;32mNone\u001b[0m\u001b[1;33m)\u001b[0m\u001b[1;33m:\u001b[0m\u001b[1;33m\u001b[0m\u001b[0m\n",
      "\u001b[1;31mAttributeError\u001b[0m: unexpected attribute 'labels' to Slider, possible attributes are callback, disabled, end, name, orientation, start, step, tags, title or value"
     ]
    }
   ],
   "source": [
    "callback = CustomJS(args=dict(source=source), code=\"\"\"\n",
    "    var data = source.get('data');\n",
    "    var f = cb_obj.get('value')\n",
    "    x = data['Date']\n",
    "    y = data['DO']\n",
    "    \"\"\")\n",
    "\n",
    "slider = Slider(labels=[\"DO\", \"NH4\", \"pH\"], active=[0, 1], callback=callback)"
   ]
  },
  {
   "cell_type": "code",
   "execution_count": 2,
   "metadata": {
    "collapsed": false
   },
   "outputs": [
    {
     "ename": "NameError",
     "evalue": "name 'source' is not defined",
     "output_type": "error",
     "traceback": [
      "\u001b[1;31m---------------------------------------------------------------------------\u001b[0m",
      "\u001b[1;31mNameError\u001b[0m                                 Traceback (most recent call last)",
      "\u001b[1;32m<ipython-input-2-2574718770b6>\u001b[0m in \u001b[0;36m<module>\u001b[1;34m()\u001b[0m\n\u001b[0;32m      1\u001b[0m \u001b[1;32mfrom\u001b[0m \u001b[0mdataplot\u001b[0m \u001b[1;32mimport\u001b[0m \u001b[0mmake_plot\u001b[0m\u001b[1;33m\u001b[0m\u001b[0m\n\u001b[1;32m----> 2\u001b[1;33m \u001b[0mmake_plot\u001b[0m\u001b[1;33m(\u001b[0m\u001b[0msource\u001b[0m\u001b[1;33m,\u001b[0m \u001b[1;34m\"garble\"\u001b[0m\u001b[1;33m)\u001b[0m\u001b[1;33m\u001b[0m\u001b[0m\n\u001b[0m",
      "\u001b[1;31mNameError\u001b[0m: name 'source' is not defined"
     ]
    }
   ],
   "source": [
    "from dataplot import make_plot\n",
    "make_plot(source, \"garble\")"
   ]
  },
  {
   "cell_type": "code",
   "execution_count": null,
   "metadata": {
    "collapsed": true
   },
   "outputs": [],
   "source": []
  }
 ],
 "metadata": {
  "kernelspec": {
   "display_name": "Python 3",
   "language": "python",
   "name": "python3"
  },
  "language_info": {
   "codemirror_mode": {
    "name": "ipython",
    "version": 3
   },
   "file_extension": ".py",
   "mimetype": "text/x-python",
   "name": "python",
   "nbconvert_exporter": "python",
   "pygments_lexer": "ipython3",
   "version": "3.5.1"
  }
 },
 "nbformat": 4,
 "nbformat_minor": 0
}
